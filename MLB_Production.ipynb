{
  "nbformat": 4,
  "nbformat_minor": 0,
  "metadata": {
    "colab": {
      "provenance": []
    },
    "kernelspec": {
      "name": "python3",
      "display_name": "Python 3"
    },
    "language_info": {
      "name": "python"
    }
  },
  "cells": [
    {
      "cell_type": "markdown",
      "source": [
        "**Install Packages**"
      ],
      "metadata": {
        "id": "Si6oYuigEsWJ"
      }
    },
    {
      "cell_type": "code",
      "execution_count": null,
      "metadata": {
        "id": "-AV9WzDzEcTt"
      },
      "outputs": [],
      "source": [
        "!pip install pycaret\n",
        "!pip install mysql-connector-python\n",
        "!pip install sqlalchemy==1.4.32"
      ]
    },
    {
      "cell_type": "markdown",
      "source": [
        "**Import Packages**"
      ],
      "metadata": {
        "id": "AL_lGnkTE7af"
      }
    },
    {
      "cell_type": "code",
      "source": [
        "import pycaret\n",
        "import pandas as pd\n",
        "import numpy as np\n",
        "import sqlalchemy\n",
        "import mysql.connector\n",
        "import sys\n",
        "\n",
        "from pycaret import classification\n",
        "from datetime import datetime\n",
        "from google.colab.data_table import DataTable\n",
        "from google.colab import files\n",
        "from google.colab import drive\n",
        "\n",
        "sys.path.append(\"/content/drive/MyDrive\")\n",
        "\n",
        "drive.mount('/content/drive')\n",
        "DataTable.max_columns = 100\n",
        "\n",
        "def odds_calculator(probability):\n",
        "\n",
        "    return round(-100 / ((1/probability)-1))\n",
        "\n",
        "def juiced_odds_calculator(probability):\n",
        "\n",
        "    return round(-100 / ((1/probability)-1)) - 15"
      ],
      "metadata": {
        "id": "N3dnZwMJFEe5",
        "colab": {
          "base_uri": "https://localhost:8080/"
        },
        "outputId": "c36164a7-3489-49af-a3a4-e69dedc27255"
      },
      "execution_count": null,
      "outputs": [
        {
          "output_type": "stream",
          "name": "stdout",
          "text": [
            "Mounted at /content/drive\n"
          ]
        }
      ]
    },
    {
      "cell_type": "markdown",
      "source": [
        "**Import Data**"
      ],
      "metadata": {
        "id": "Bx0rUFJ1FraV"
      }
    },
    {
      "cell_type": "code",
      "source": [
        "engine = sqlalchemy.create_engine()\n",
        "Player_Positions = pd.read_csv(\"/content/drive/MyDrive/Lineup_MLB_Player_Positions.csv\")\n",
        "\n",
        "#Exclude_Variables = [\"Unnamed: 0\",\"pitching_numberOfPitches\",\"pitching_outs\",\"pitching_strikes\",\"pitching_strikePercentage\",\"pitching_totalBases\",\"pitching_baseOnBalls\",\"pitching_hitByPitch\",\"pitching_atBats\",       'batting_groundOuts','batting_hitByPitch', 'batting_caughtStealing','batting_stolenBases','batting_plateAppearances',\"pitching_game_id\",\"batting_game_id\",'batting_leftOnBase', 'batting_sacBunts', 'batting_sacFlies',\"batting_numberOfPitches\",\"batting_totalBases\",\"batting_baseOnBalls\", \"batting_doubles\", \"batting_triples\",\"batting_homeRuns\",\"batting_airOuts\",\"batting_atBats\", \"batting_rbi\"]\n",
        "#file_string = f\"prediction-2023-05-09.csv\"\n",
        "file_string = f\"prediction-{datetime.today().strftime('%Y-%m-%d')}.csv\"\n",
        "Real_Features = [\"pitching_gamesPlayed\",\"pitching_runs\",\"pitching_era\", \"pitching_strikeOuts\", \"pitching_hits\",\"pitching_id\",\"pitching_name\", \"batting_gamesPlayed\", \"batting_runs\",\"batting_strikeOuts\", \"batting_hits\",\"batting_rbi\",\"batting_id\",\"batting_name\",\"temp\", \"game_id\", \"game_venue\",\"game_date\"]       \n",
        "\n",
        "Daily_Lineup_Data = pd.read_csv(f\"/content/drive/MyDrive/{file_string}\")\n",
        "Daily_Lineup_Data = Daily_Lineup_Data[Real_Features]\n",
        "print(file_string, Daily_Lineup_Data.info())"
      ],
      "metadata": {
        "id": "4nMUvN_HFvoi"
      },
      "execution_count": null,
      "outputs": []
    },
    {
      "cell_type": "markdown",
      "source": [
        "**Load Model**"
      ],
      "metadata": {
        "id": "9P_9ThrHGyPd"
      }
    },
    {
      "cell_type": "code",
      "source": [
        "hit_model_file_string = f\"{datetime.today().strftime('%Y-%m-%d')} Batter Hit LR Model\"\n",
        "#hit_model_file_string = f\"2023-05-09 Batter Hit LR Model\"\n",
        "Hit_Model = pycaret.classification.load_model(f\"/content/drive/MyDrive/{hit_model_file_string}\")\n",
        "\n",
        "print(hit_model_file_string)"
      ],
      "metadata": {
        "colab": {
          "base_uri": "https://localhost:8080/"
        },
        "id": "UfU7AgQwG0zJ",
        "outputId": "aaf5a29b-d0da-4625-e040-9cc29cff5873"
      },
      "execution_count": null,
      "outputs": [
        {
          "output_type": "stream",
          "name": "stdout",
          "text": [
            "Transformation Pipeline and Model Successfully Loaded\n",
            "2023-05-13 Batter Hit LR Model\n"
          ]
        }
      ]
    },
    {
      "cell_type": "markdown",
      "source": [
        "**Get Most Confident Predictions**"
      ],
      "metadata": {
        "id": "mmm5t3mOHHYw"
      }
    },
    {
      "cell_type": "code",
      "source": [
        "Daily_Hit_Prediction = pycaret.classification.predict_model(data = Daily_Lineup_Data, estimator = Hit_Model)\n",
        "Daily_Hit_Prediction = pd.merge(Daily_Hit_Prediction, Player_Positions[['player_id','player_team_name']], left_on='batting_id', right_on='player_id', how='left')\n",
        "\n",
        "Daily_Hit_Prediction[\"theo_odds\"] = Daily_Hit_Prediction[\"prediction_score\"].apply(odds_calculator)\n",
        "Daily_Hit_Prediction[\"theo_juiced_odds\"] = Daily_Hit_Prediction[\"prediction_score\"].apply(juiced_odds_calculator)\n",
        "\n",
        "Confident_Hit_Predicitions = Daily_Hit_Prediction[(Daily_Hit_Prediction[\"prediction_score\"] >= 0.65) & (Daily_Hit_Prediction[\"prediction_label\"] == 1)].sort_values(by = \"prediction_score\", ascending = False).drop_duplicates(\"batting_name\")\n",
        "Confident_Hit_Predicitions[[\"batting_name\",\t\"prediction_label\",\t\"prediction_score\", \"player_team_name\", \"theo_odds\", \"theo_juiced_odds\"]]"
      ],
      "metadata": {
        "id": "74NJhfPrHKzA",
        "colab": {
          "base_uri": "https://localhost:8080/",
          "height": 424
        },
        "outputId": "87d65112-9788-4bd5-f3e1-1fa42b5f5ed7"
      },
      "execution_count": 9,
      "outputs": [
        {
          "output_type": "execute_result",
          "data": {
            "text/plain": [
              "          batting_name  prediction_label  prediction_score  \\\n",
              "288  Andrew Benintendi                 1            0.7800   \n",
              "284      Andrew Vaughn                 1            0.7756   \n",
              "141     Nathaniel Lowe                 1            0.7753   \n",
              "293    Luis Robert Jr.                 1            0.7592   \n",
              "96        Austin Riley                 1            0.7531   \n",
              "..                 ...               ...               ...   \n",
              "38           Ty France                 1            0.6559   \n",
              "357       Bryson Stott                 1            0.6534   \n",
              "41     Julio Rodriguez                 1            0.6519   \n",
              "197     Hunter Renfroe                 1            0.6516   \n",
              "278   Jake Cronenworth                 1            0.6504   \n",
              "\n",
              "          player_team_name  theo_odds  theo_juiced_odds  \n",
              "288      Chicago White Sox       -355              -370  \n",
              "284      Chicago White Sox       -346              -361  \n",
              "141          Texas Rangers       -345              -360  \n",
              "293      Chicago White Sox       -315              -330  \n",
              "96          Atlanta Braves       -305              -320  \n",
              "..                     ...        ...               ...  \n",
              "38        Seattle Mariners       -191              -206  \n",
              "357  Philadelphia Phillies       -189              -204  \n",
              "41        Seattle Mariners       -187              -202  \n",
              "197     Los Angeles Angels       -187              -202  \n",
              "278       San Diego Padres       -186              -201  \n",
              "\n",
              "[77 rows x 6 columns]"
            ],
            "text/html": [
              "\n",
              "  <div id=\"df-d26ca506-a4bb-473e-811b-c3cd362e8255\">\n",
              "    <div class=\"colab-df-container\">\n",
              "      <div>\n",
              "<style scoped>\n",
              "    .dataframe tbody tr th:only-of-type {\n",
              "        vertical-align: middle;\n",
              "    }\n",
              "\n",
              "    .dataframe tbody tr th {\n",
              "        vertical-align: top;\n",
              "    }\n",
              "\n",
              "    .dataframe thead th {\n",
              "        text-align: right;\n",
              "    }\n",
              "</style>\n",
              "<table border=\"1\" class=\"dataframe\">\n",
              "  <thead>\n",
              "    <tr style=\"text-align: right;\">\n",
              "      <th></th>\n",
              "      <th>batting_name</th>\n",
              "      <th>prediction_label</th>\n",
              "      <th>prediction_score</th>\n",
              "      <th>player_team_name</th>\n",
              "      <th>theo_odds</th>\n",
              "      <th>theo_juiced_odds</th>\n",
              "    </tr>\n",
              "  </thead>\n",
              "  <tbody>\n",
              "    <tr>\n",
              "      <th>288</th>\n",
              "      <td>Andrew Benintendi</td>\n",
              "      <td>1</td>\n",
              "      <td>0.7800</td>\n",
              "      <td>Chicago White Sox</td>\n",
              "      <td>-355</td>\n",
              "      <td>-370</td>\n",
              "    </tr>\n",
              "    <tr>\n",
              "      <th>284</th>\n",
              "      <td>Andrew Vaughn</td>\n",
              "      <td>1</td>\n",
              "      <td>0.7756</td>\n",
              "      <td>Chicago White Sox</td>\n",
              "      <td>-346</td>\n",
              "      <td>-361</td>\n",
              "    </tr>\n",
              "    <tr>\n",
              "      <th>141</th>\n",
              "      <td>Nathaniel Lowe</td>\n",
              "      <td>1</td>\n",
              "      <td>0.7753</td>\n",
              "      <td>Texas Rangers</td>\n",
              "      <td>-345</td>\n",
              "      <td>-360</td>\n",
              "    </tr>\n",
              "    <tr>\n",
              "      <th>293</th>\n",
              "      <td>Luis Robert Jr.</td>\n",
              "      <td>1</td>\n",
              "      <td>0.7592</td>\n",
              "      <td>Chicago White Sox</td>\n",
              "      <td>-315</td>\n",
              "      <td>-330</td>\n",
              "    </tr>\n",
              "    <tr>\n",
              "      <th>96</th>\n",
              "      <td>Austin Riley</td>\n",
              "      <td>1</td>\n",
              "      <td>0.7531</td>\n",
              "      <td>Atlanta Braves</td>\n",
              "      <td>-305</td>\n",
              "      <td>-320</td>\n",
              "    </tr>\n",
              "    <tr>\n",
              "      <th>...</th>\n",
              "      <td>...</td>\n",
              "      <td>...</td>\n",
              "      <td>...</td>\n",
              "      <td>...</td>\n",
              "      <td>...</td>\n",
              "      <td>...</td>\n",
              "    </tr>\n",
              "    <tr>\n",
              "      <th>38</th>\n",
              "      <td>Ty France</td>\n",
              "      <td>1</td>\n",
              "      <td>0.6559</td>\n",
              "      <td>Seattle Mariners</td>\n",
              "      <td>-191</td>\n",
              "      <td>-206</td>\n",
              "    </tr>\n",
              "    <tr>\n",
              "      <th>357</th>\n",
              "      <td>Bryson Stott</td>\n",
              "      <td>1</td>\n",
              "      <td>0.6534</td>\n",
              "      <td>Philadelphia Phillies</td>\n",
              "      <td>-189</td>\n",
              "      <td>-204</td>\n",
              "    </tr>\n",
              "    <tr>\n",
              "      <th>41</th>\n",
              "      <td>Julio Rodriguez</td>\n",
              "      <td>1</td>\n",
              "      <td>0.6519</td>\n",
              "      <td>Seattle Mariners</td>\n",
              "      <td>-187</td>\n",
              "      <td>-202</td>\n",
              "    </tr>\n",
              "    <tr>\n",
              "      <th>197</th>\n",
              "      <td>Hunter Renfroe</td>\n",
              "      <td>1</td>\n",
              "      <td>0.6516</td>\n",
              "      <td>Los Angeles Angels</td>\n",
              "      <td>-187</td>\n",
              "      <td>-202</td>\n",
              "    </tr>\n",
              "    <tr>\n",
              "      <th>278</th>\n",
              "      <td>Jake Cronenworth</td>\n",
              "      <td>1</td>\n",
              "      <td>0.6504</td>\n",
              "      <td>San Diego Padres</td>\n",
              "      <td>-186</td>\n",
              "      <td>-201</td>\n",
              "    </tr>\n",
              "  </tbody>\n",
              "</table>\n",
              "<p>77 rows × 6 columns</p>\n",
              "</div>\n",
              "      <button class=\"colab-df-convert\" onclick=\"convertToInteractive('df-d26ca506-a4bb-473e-811b-c3cd362e8255')\"\n",
              "              title=\"Convert this dataframe to an interactive table.\"\n",
              "              style=\"display:none;\">\n",
              "        \n",
              "  <svg xmlns=\"http://www.w3.org/2000/svg\" height=\"24px\"viewBox=\"0 0 24 24\"\n",
              "       width=\"24px\">\n",
              "    <path d=\"M0 0h24v24H0V0z\" fill=\"none\"/>\n",
              "    <path d=\"M18.56 5.44l.94 2.06.94-2.06 2.06-.94-2.06-.94-.94-2.06-.94 2.06-2.06.94zm-11 1L8.5 8.5l.94-2.06 2.06-.94-2.06-.94L8.5 2.5l-.94 2.06-2.06.94zm10 10l.94 2.06.94-2.06 2.06-.94-2.06-.94-.94-2.06-.94 2.06-2.06.94z\"/><path d=\"M17.41 7.96l-1.37-1.37c-.4-.4-.92-.59-1.43-.59-.52 0-1.04.2-1.43.59L10.3 9.45l-7.72 7.72c-.78.78-.78 2.05 0 2.83L4 21.41c.39.39.9.59 1.41.59.51 0 1.02-.2 1.41-.59l7.78-7.78 2.81-2.81c.8-.78.8-2.07 0-2.86zM5.41 20L4 18.59l7.72-7.72 1.47 1.35L5.41 20z\"/>\n",
              "  </svg>\n",
              "      </button>\n",
              "      \n",
              "  <style>\n",
              "    .colab-df-container {\n",
              "      display:flex;\n",
              "      flex-wrap:wrap;\n",
              "      gap: 12px;\n",
              "    }\n",
              "\n",
              "    .colab-df-convert {\n",
              "      background-color: #E8F0FE;\n",
              "      border: none;\n",
              "      border-radius: 50%;\n",
              "      cursor: pointer;\n",
              "      display: none;\n",
              "      fill: #1967D2;\n",
              "      height: 32px;\n",
              "      padding: 0 0 0 0;\n",
              "      width: 32px;\n",
              "    }\n",
              "\n",
              "    .colab-df-convert:hover {\n",
              "      background-color: #E2EBFA;\n",
              "      box-shadow: 0px 1px 2px rgba(60, 64, 67, 0.3), 0px 1px 3px 1px rgba(60, 64, 67, 0.15);\n",
              "      fill: #174EA6;\n",
              "    }\n",
              "\n",
              "    [theme=dark] .colab-df-convert {\n",
              "      background-color: #3B4455;\n",
              "      fill: #D2E3FC;\n",
              "    }\n",
              "\n",
              "    [theme=dark] .colab-df-convert:hover {\n",
              "      background-color: #434B5C;\n",
              "      box-shadow: 0px 1px 3px 1px rgba(0, 0, 0, 0.15);\n",
              "      filter: drop-shadow(0px 1px 2px rgba(0, 0, 0, 0.3));\n",
              "      fill: #FFFFFF;\n",
              "    }\n",
              "  </style>\n",
              "\n",
              "      <script>\n",
              "        const buttonEl =\n",
              "          document.querySelector('#df-d26ca506-a4bb-473e-811b-c3cd362e8255 button.colab-df-convert');\n",
              "        buttonEl.style.display =\n",
              "          google.colab.kernel.accessAllowed ? 'block' : 'none';\n",
              "\n",
              "        async function convertToInteractive(key) {\n",
              "          const element = document.querySelector('#df-d26ca506-a4bb-473e-811b-c3cd362e8255');\n",
              "          const dataTable =\n",
              "            await google.colab.kernel.invokeFunction('convertToInteractive',\n",
              "                                                     [key], {});\n",
              "          if (!dataTable) return;\n",
              "\n",
              "          const docLinkHtml = 'Like what you see? Visit the ' +\n",
              "            '<a target=\"_blank\" href=https://colab.research.google.com/notebooks/data_table.ipynb>data table notebook</a>'\n",
              "            + ' to learn more about interactive tables.';\n",
              "          element.innerHTML = '';\n",
              "          dataTable['output_type'] = 'display_data';\n",
              "          await google.colab.output.renderOutput(dataTable, element);\n",
              "          const docLink = document.createElement('div');\n",
              "          docLink.innerHTML = docLinkHtml;\n",
              "          element.appendChild(docLink);\n",
              "        }\n",
              "      </script>\n",
              "    </div>\n",
              "  </div>\n",
              "  "
            ]
          },
          "metadata": {},
          "execution_count": 9
        }
      ]
    },
    {
      "cell_type": "code",
      "source": [
        "Daily_Hit_Prediction.to_csv(\"labeled-\"+file_string)\n",
        "files.download(\"labeled-\"+file_string)"
      ],
      "metadata": {
        "colab": {
          "base_uri": "https://localhost:8080/",
          "height": 17
        },
        "id": "Gww7vDf323GQ",
        "outputId": "1d7f191b-4633-450a-ffc7-274d14f2d8c8"
      },
      "execution_count": null,
      "outputs": [
        {
          "output_type": "display_data",
          "data": {
            "text/plain": [
              "<IPython.core.display.Javascript object>"
            ],
            "application/javascript": [
              "\n",
              "    async function download(id, filename, size) {\n",
              "      if (!google.colab.kernel.accessAllowed) {\n",
              "        return;\n",
              "      }\n",
              "      const div = document.createElement('div');\n",
              "      const label = document.createElement('label');\n",
              "      label.textContent = `Downloading \"${filename}\": `;\n",
              "      div.appendChild(label);\n",
              "      const progress = document.createElement('progress');\n",
              "      progress.max = size;\n",
              "      div.appendChild(progress);\n",
              "      document.body.appendChild(div);\n",
              "\n",
              "      const buffers = [];\n",
              "      let downloaded = 0;\n",
              "\n",
              "      const channel = await google.colab.kernel.comms.open(id);\n",
              "      // Send a message to notify the kernel that we're ready.\n",
              "      channel.send({})\n",
              "\n",
              "      for await (const message of channel.messages) {\n",
              "        // Send a message to notify the kernel that we're ready.\n",
              "        channel.send({})\n",
              "        if (message.buffers) {\n",
              "          for (const buffer of message.buffers) {\n",
              "            buffers.push(buffer);\n",
              "            downloaded += buffer.byteLength;\n",
              "            progress.value = downloaded;\n",
              "          }\n",
              "        }\n",
              "      }\n",
              "      const blob = new Blob(buffers, {type: 'application/binary'});\n",
              "      const a = document.createElement('a');\n",
              "      a.href = window.URL.createObjectURL(blob);\n",
              "      a.download = filename;\n",
              "      div.appendChild(a);\n",
              "      a.click();\n",
              "      div.remove();\n",
              "    }\n",
              "  "
            ]
          },
          "metadata": {}
        },
        {
          "output_type": "display_data",
          "data": {
            "text/plain": [
              "<IPython.core.display.Javascript object>"
            ],
            "application/javascript": [
              "download(\"download_1fcc7548-2e5e-443a-b004-468e53318bcf\", \"labeled-prediction-2023-05-12.csv\", 57639)"
            ]
          },
          "metadata": {}
        }
      ]
    }
  ]
}