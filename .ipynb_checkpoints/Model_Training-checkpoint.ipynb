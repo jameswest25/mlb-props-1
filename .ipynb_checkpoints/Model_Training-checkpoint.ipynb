{
 "cells": [
  {
   "cell_type": "markdown",
   "metadata": {
    "id": "_qJID5YKp6iw"
   },
   "source": [
    "**Install Packages**"
   ]
  },
  {
   "cell_type": "code",
   "execution_count": null,
   "metadata": {
    "id": "JVMqOubzpqz6"
   },
   "outputs": [],
   "source": [
    "!pip install pycaret\n",
    "!pip install mysql-connector-python\n",
    "!pip install sqlalchemy==1.4.32\n",
    "!pip install meteostat"
   ]
  },
  {
   "cell_type": "markdown",
   "metadata": {
    "id": "X1V_SUC4p-YQ"
   },
   "source": [
    "**Import Packages**"
   ]
  },
  {
   "cell_type": "code",
   "execution_count": null,
   "metadata": {
    "colab": {
     "base_uri": "https://localhost:8080/"
    },
    "id": "IGZCa25_p5QY",
    "outputId": "d9e7f9d8-21e8-49dd-d344-173324ba79a5"
   },
   "outputs": [
    {
     "name": "stdout",
     "output_type": "stream",
     "text": [
      "Mounted at /content/drive\n"
     ]
    }
   ],
   "source": [
    "import pycaret\n",
    "import pandas as pd\n",
    "import numpy as np\n",
    "import sqlalchemy\n",
    "import mysql.connector\n",
    "\n",
    "from pycaret import classification\n",
    "from google.colab import drive\n",
    "from datetime import datetime\n",
    "from google.colab.data_table import DataTable\n",
    "from google.colab import files\n",
    "drive.mount('/content/drive')\n",
    "DataTable.max_columns = 100\n",
    "\n",
    "Player_Positions = pd.read_csv(\"/content/drive/MyDrive/MLB_Player_Positions.csv\")"
   ]
  },
  {
   "cell_type": "markdown",
   "metadata": {
    "id": "jqde2RQfqchC"
   },
   "source": [
    "**Load Data**"
   ]
  },
  {
   "cell_type": "code",
   "execution_count": null,
   "metadata": {
    "colab": {
     "base_uri": "https://localhost:8080/"
    },
    "id": "CvGAqaGkqayA",
    "outputId": "6865c2fc-63bc-455f-ec46-e384a07c0616"
   },
   "outputs": [
    {
     "name": "stdout",
     "output_type": "stream",
     "text": [
      "9503\n"
     ]
    }
   ],
   "source": [
    "engine = sqlalchemy.create_engine()\n",
    "Hit_Data_Original = pd.read_sql(sql = \"SELECT * FROM baseball_historical_matchup\", con = engine).dropna()\n",
    "print(len(Hit_Data_Original))"
   ]
  },
  {
   "cell_type": "markdown",
   "metadata": {
    "id": "VkSM5TOeule8"
   },
   "source": [
    "**Clean Data**"
   ]
  },
  {
   "cell_type": "code",
   "execution_count": null,
   "metadata": {
    "id": "ezAt-zxFuqVf"
   },
   "outputs": [],
   "source": [
    "Features = ['pitching_gamesPlayed', 'pitching_gamesStarted', 'pitching_groundOuts',\n",
    "       'pitching_airOuts', 'pitching_runs', 'pitching_doubles',\n",
    "       'pitching_triples', 'pitching_homeRuns', 'pitching_strikeOuts',\n",
    "       'pitching_baseOnBalls', 'pitching_intentionalWalks', 'pitching_hits',\n",
    "       'pitching_hitByPitch', 'pitching_avg', 'pitching_atBats',\n",
    "       'pitching_obp', 'pitching_slg', 'pitching_ops',\n",
    "       'pitching_caughtStealing', 'pitching_stolenBases', 'pitching_groundIntoDoublePlay',\n",
    "       'pitching_numberOfPitches',\n",
    "       'pitching_wins', 'pitching_losses', 'pitching_saves',\n",
    "       'pitching_saveOpportunities', 'pitching_holds', 'pitching_blownSaves',\n",
    "       'pitching_earnedRuns', 'pitching_battersFaced',\n",
    "       'pitching_outs', 'pitching_gamesPitched', 'pitching_completeGames',\n",
    "       'pitching_shutouts', 'pitching_strikes', 'pitching_strikePercentage',\n",
    "       'pitching_hitBatsmen', 'pitching_balks', 'pitching_wildPitches',\n",
    "       'pitching_pickoffs', 'pitching_totalBases','pitching_gamesFinished',\n",
    "       'pitching_inheritedRunners', 'pitching_inheritedRunnersScored',\n",
    "       'pitching_catchersInterference', 'pitching_sacBunts',\n",
    "       'pitching_sacFlies', 'pitching_name', 'pitching_id',\n",
    "       'batting_gamesPlayed', 'batting_groundOuts', 'batting_airOuts',\n",
    "       'batting_runs', 'batting_doubles', 'batting_triples',\n",
    "       'batting_homeRuns', 'batting_strikeOuts', 'batting_baseOnBalls',\n",
    "       'batting_intentionalWalks', 'batting_hits', 'batting_hitByPitch',\n",
    "       'batting_avg', 'batting_atBats', 'batting_obp', 'batting_slg',\n",
    "       'batting_ops', 'batting_caughtStealing', 'batting_stolenBases', 'batting_groundIntoDoublePlay',\n",
    "       'batting_numberOfPitches', 'batting_plateAppearances',\n",
    "       'batting_totalBases', 'batting_rbi', 'batting_leftOnBase',\n",
    "       'batting_sacBunts', 'batting_sacFlies', 'batting_catchersInterference',\n",
    "        'batting_name', 'batting_id',\n",
    "       'batting_hit_recorded', 'game_id', 'game_venue', 'game_date']\n",
    "\n",
    "#Data[[\"batting_avg\",\"batting_obp\",\"batting_slg\",\"batting_ops\",\"pitching_strikePercentage\", \"pitching_avg\" , \"pitching_era\", \"pitching_obp\", \"pitching_slg\", \"pitching_ops\"]] = Data[[\"batting_avg\",\"batting_obp\",\"batting_slg\",\"batting_ops\",\"pitching_strikePercentage\", \"pitching_avg\" , \"pitching_era\", \"pitching_obp\", \"pitching_slg\", \"pitching_ops\"]].replace([\".---\", \"-.--\"], np.nan).astype(float)\n",
    "\n",
    "Hit_Real_Features = [\"pitching_gamesPlayed\",\"pitching_runs\", \"pitching_strikeOuts\", \"pitching_hits\",\"pitching_id\",\"pitching_name\", \"batting_gamesPlayed\", \"batting_runs\",\"batting_strikeOuts\", \"batting_hits\",\"batting_rbi\", \"batting_hit_recorded\",\"batting_id\",\"batting_name\",\"temp\" ,\"game_id\", \"game_venue\",\"game_date\"]       \n",
    "Hit_Data = Hit_Data_Original[Hit_Real_Features]\n",
    "Hit_Data.info()"
   ]
  },
  {
   "cell_type": "markdown",
   "metadata": {
    "id": "-0Pi_iCwvTQd"
   },
   "source": [
    "**Model Setup**"
   ]
  },
  {
   "cell_type": "code",
   "execution_count": null,
   "metadata": {
    "colab": {
     "base_uri": "https://localhost:8080/",
     "height": 771
    },
    "id": "811YyeMivWor",
    "outputId": "24285df2-6acc-4db1-f15f-3746d3429e2c"
   },
   "outputs": [
    {
     "data": {
      "text/html": [
       "<style type=\"text/css\">\n",
       "#T_1024e_row10_col1, #T_1024e_row19_col1 {\n",
       "  background-color: lightgreen;\n",
       "}\n",
       "</style>\n",
       "<table id=\"T_1024e\" class=\"dataframe\">\n",
       "  <thead>\n",
       "    <tr>\n",
       "      <th class=\"blank level0\" >&nbsp;</th>\n",
       "      <th id=\"T_1024e_level0_col0\" class=\"col_heading level0 col0\" >Description</th>\n",
       "      <th id=\"T_1024e_level0_col1\" class=\"col_heading level0 col1\" >Value</th>\n",
       "    </tr>\n",
       "  </thead>\n",
       "  <tbody>\n",
       "    <tr>\n",
       "      <th id=\"T_1024e_level0_row0\" class=\"row_heading level0 row0\" >0</th>\n",
       "      <td id=\"T_1024e_row0_col0\" class=\"data row0 col0\" >Session id</td>\n",
       "      <td id=\"T_1024e_row0_col1\" class=\"data row0 col1\" >6601</td>\n",
       "    </tr>\n",
       "    <tr>\n",
       "      <th id=\"T_1024e_level0_row1\" class=\"row_heading level0 row1\" >1</th>\n",
       "      <td id=\"T_1024e_row1_col0\" class=\"data row1 col0\" >Target</td>\n",
       "      <td id=\"T_1024e_row1_col1\" class=\"data row1 col1\" >batting_hit_recorded</td>\n",
       "    </tr>\n",
       "    <tr>\n",
       "      <th id=\"T_1024e_level0_row2\" class=\"row_heading level0 row2\" >2</th>\n",
       "      <td id=\"T_1024e_row2_col0\" class=\"data row2 col0\" >Target type</td>\n",
       "      <td id=\"T_1024e_row2_col1\" class=\"data row2 col1\" >Binary</td>\n",
       "    </tr>\n",
       "    <tr>\n",
       "      <th id=\"T_1024e_level0_row3\" class=\"row_heading level0 row3\" >3</th>\n",
       "      <td id=\"T_1024e_row3_col0\" class=\"data row3 col0\" >Original data shape</td>\n",
       "      <td id=\"T_1024e_row3_col1\" class=\"data row3 col1\" >(9503, 18)</td>\n",
       "    </tr>\n",
       "    <tr>\n",
       "      <th id=\"T_1024e_level0_row4\" class=\"row_heading level0 row4\" >4</th>\n",
       "      <td id=\"T_1024e_row4_col0\" class=\"data row4 col0\" >Transformed data shape</td>\n",
       "      <td id=\"T_1024e_row4_col1\" class=\"data row4 col1\" >(9503, 14)</td>\n",
       "    </tr>\n",
       "    <tr>\n",
       "      <th id=\"T_1024e_level0_row5\" class=\"row_heading level0 row5\" >5</th>\n",
       "      <td id=\"T_1024e_row5_col0\" class=\"data row5 col0\" >Transformed train set shape</td>\n",
       "      <td id=\"T_1024e_row5_col1\" class=\"data row5 col1\" >(6652, 14)</td>\n",
       "    </tr>\n",
       "    <tr>\n",
       "      <th id=\"T_1024e_level0_row6\" class=\"row_heading level0 row6\" >6</th>\n",
       "      <td id=\"T_1024e_row6_col0\" class=\"data row6 col0\" >Transformed test set shape</td>\n",
       "      <td id=\"T_1024e_row6_col1\" class=\"data row6 col1\" >(2851, 14)</td>\n",
       "    </tr>\n",
       "    <tr>\n",
       "      <th id=\"T_1024e_level0_row7\" class=\"row_heading level0 row7\" >7</th>\n",
       "      <td id=\"T_1024e_row7_col0\" class=\"data row7 col0\" >Ignore features</td>\n",
       "      <td id=\"T_1024e_row7_col1\" class=\"data row7 col1\" >4</td>\n",
       "    </tr>\n",
       "    <tr>\n",
       "      <th id=\"T_1024e_level0_row8\" class=\"row_heading level0 row8\" >8</th>\n",
       "      <td id=\"T_1024e_row8_col0\" class=\"data row8 col0\" >Numeric features</td>\n",
       "      <td id=\"T_1024e_row8_col1\" class=\"data row8 col1\" >10</td>\n",
       "    </tr>\n",
       "    <tr>\n",
       "      <th id=\"T_1024e_level0_row9\" class=\"row_heading level0 row9\" >9</th>\n",
       "      <td id=\"T_1024e_row9_col0\" class=\"data row9 col0\" >Categorical features</td>\n",
       "      <td id=\"T_1024e_row9_col1\" class=\"data row9 col1\" >3</td>\n",
       "    </tr>\n",
       "    <tr>\n",
       "      <th id=\"T_1024e_level0_row10\" class=\"row_heading level0 row10\" >10</th>\n",
       "      <td id=\"T_1024e_row10_col0\" class=\"data row10 col0\" >Preprocess</td>\n",
       "      <td id=\"T_1024e_row10_col1\" class=\"data row10 col1\" >True</td>\n",
       "    </tr>\n",
       "    <tr>\n",
       "      <th id=\"T_1024e_level0_row11\" class=\"row_heading level0 row11\" >11</th>\n",
       "      <td id=\"T_1024e_row11_col0\" class=\"data row11 col0\" >Imputation type</td>\n",
       "      <td id=\"T_1024e_row11_col1\" class=\"data row11 col1\" >simple</td>\n",
       "    </tr>\n",
       "    <tr>\n",
       "      <th id=\"T_1024e_level0_row12\" class=\"row_heading level0 row12\" >12</th>\n",
       "      <td id=\"T_1024e_row12_col0\" class=\"data row12 col0\" >Numeric imputation</td>\n",
       "      <td id=\"T_1024e_row12_col1\" class=\"data row12 col1\" >mean</td>\n",
       "    </tr>\n",
       "    <tr>\n",
       "      <th id=\"T_1024e_level0_row13\" class=\"row_heading level0 row13\" >13</th>\n",
       "      <td id=\"T_1024e_row13_col0\" class=\"data row13 col0\" >Categorical imputation</td>\n",
       "      <td id=\"T_1024e_row13_col1\" class=\"data row13 col1\" >mode</td>\n",
       "    </tr>\n",
       "    <tr>\n",
       "      <th id=\"T_1024e_level0_row14\" class=\"row_heading level0 row14\" >14</th>\n",
       "      <td id=\"T_1024e_row14_col0\" class=\"data row14 col0\" >Maximum one-hot encoding</td>\n",
       "      <td id=\"T_1024e_row14_col1\" class=\"data row14 col1\" >25</td>\n",
       "    </tr>\n",
       "    <tr>\n",
       "      <th id=\"T_1024e_level0_row15\" class=\"row_heading level0 row15\" >15</th>\n",
       "      <td id=\"T_1024e_row15_col0\" class=\"data row15 col0\" >Encoding method</td>\n",
       "      <td id=\"T_1024e_row15_col1\" class=\"data row15 col1\" >None</td>\n",
       "    </tr>\n",
       "    <tr>\n",
       "      <th id=\"T_1024e_level0_row16\" class=\"row_heading level0 row16\" >16</th>\n",
       "      <td id=\"T_1024e_row16_col0\" class=\"data row16 col0\" >Fold Generator</td>\n",
       "      <td id=\"T_1024e_row16_col1\" class=\"data row16 col1\" >StratifiedKFold</td>\n",
       "    </tr>\n",
       "    <tr>\n",
       "      <th id=\"T_1024e_level0_row17\" class=\"row_heading level0 row17\" >17</th>\n",
       "      <td id=\"T_1024e_row17_col0\" class=\"data row17 col0\" >Fold Number</td>\n",
       "      <td id=\"T_1024e_row17_col1\" class=\"data row17 col1\" >10</td>\n",
       "    </tr>\n",
       "    <tr>\n",
       "      <th id=\"T_1024e_level0_row18\" class=\"row_heading level0 row18\" >18</th>\n",
       "      <td id=\"T_1024e_row18_col0\" class=\"data row18 col0\" >CPU Jobs</td>\n",
       "      <td id=\"T_1024e_row18_col1\" class=\"data row18 col1\" >-1</td>\n",
       "    </tr>\n",
       "    <tr>\n",
       "      <th id=\"T_1024e_level0_row19\" class=\"row_heading level0 row19\" >19</th>\n",
       "      <td id=\"T_1024e_row19_col0\" class=\"data row19 col0\" >Use GPU</td>\n",
       "      <td id=\"T_1024e_row19_col1\" class=\"data row19 col1\" >True</td>\n",
       "    </tr>\n",
       "    <tr>\n",
       "      <th id=\"T_1024e_level0_row20\" class=\"row_heading level0 row20\" >20</th>\n",
       "      <td id=\"T_1024e_row20_col0\" class=\"data row20 col0\" >Log Experiment</td>\n",
       "      <td id=\"T_1024e_row20_col1\" class=\"data row20 col1\" >False</td>\n",
       "    </tr>\n",
       "    <tr>\n",
       "      <th id=\"T_1024e_level0_row21\" class=\"row_heading level0 row21\" >21</th>\n",
       "      <td id=\"T_1024e_row21_col0\" class=\"data row21 col0\" >Experiment Name</td>\n",
       "      <td id=\"T_1024e_row21_col1\" class=\"data row21 col1\" >clf-default-name</td>\n",
       "    </tr>\n",
       "    <tr>\n",
       "      <th id=\"T_1024e_level0_row22\" class=\"row_heading level0 row22\" >22</th>\n",
       "      <td id=\"T_1024e_row22_col0\" class=\"data row22 col0\" >USI</td>\n",
       "      <td id=\"T_1024e_row22_col1\" class=\"data row22 col1\" >687e</td>\n",
       "    </tr>\n",
       "  </tbody>\n",
       "</table>\n"
      ],
      "text/plain": [
       "<pandas.io.formats.style.Styler at 0x7f2058f13bb0>"
      ]
     },
     "metadata": {},
     "output_type": "display_data"
    }
   ],
   "source": [
    "Hit_Classification_Setup = pycaret.classification.setup(data = Hit_Data, target = \"batting_hit_recorded\", train_size = .70, use_gpu = True, categorical_features = [\"pitching_name\",\"batting_name\", \"game_venue\"], ignore_features = [\"pitching_id\",\"batting_id\",\"game_id\",\"game_date\"])\n"
   ]
  },
  {
   "cell_type": "markdown",
   "metadata": {
    "id": "Qxoqal-SvwXp"
   },
   "source": [
    "**Build/Train Model**"
   ]
  },
  {
   "cell_type": "code",
   "execution_count": null,
   "metadata": {
    "colab": {
     "base_uri": "https://localhost:8080/",
     "height": 457,
     "referenced_widgets": [
      "46b9d3b6cd6e4f76a42dd4f216dc1644",
      "cfce22755aa7471a87151793e633def1",
      "94d7b3dc65544425b2463933c4108fa4",
      "f92582f04a594f87a669f3c1c4d4eabc",
      "40b50c57e470496cb6c94a0693636fd7",
      "bec03081ad154466a3a0abca5a8462f4",
      "81feddb738c64cbc8b7dbc7aec2730de",
      "eb74dfbcca4a458eb81d87fbae5bf166",
      "4efa6d0ab419418ea9e4991c77b1ec42",
      "1ac32fe9102d4f5a9d1511e64a1d5e5d",
      "cfcd697393754f1d93106a2d6e07ea05"
     ]
    },
    "id": "s1KDL3OFv0GF",
    "outputId": "dfd0adbc-d76b-4394-adca-2e01701b5ec9"
   },
   "outputs": [
    {
     "data": {
      "text/html": [],
      "text/plain": [
       "<IPython.core.display.HTML object>"
      ]
     },
     "metadata": {},
     "output_type": "display_data"
    },
    {
     "data": {
      "text/html": [
       "<style type=\"text/css\">\n",
       "#T_88c91_row10_col0, #T_88c91_row10_col1, #T_88c91_row10_col2, #T_88c91_row10_col3, #T_88c91_row10_col4, #T_88c91_row10_col5, #T_88c91_row10_col6 {\n",
       "  background: yellow;\n",
       "}\n",
       "</style>\n",
       "<table id=\"T_88c91\" class=\"dataframe\">\n",
       "  <thead>\n",
       "    <tr>\n",
       "      <th class=\"blank level0\" >&nbsp;</th>\n",
       "      <th id=\"T_88c91_level0_col0\" class=\"col_heading level0 col0\" >Accuracy</th>\n",
       "      <th id=\"T_88c91_level0_col1\" class=\"col_heading level0 col1\" >AUC</th>\n",
       "      <th id=\"T_88c91_level0_col2\" class=\"col_heading level0 col2\" >Recall</th>\n",
       "      <th id=\"T_88c91_level0_col3\" class=\"col_heading level0 col3\" >Prec.</th>\n",
       "      <th id=\"T_88c91_level0_col4\" class=\"col_heading level0 col4\" >F1</th>\n",
       "      <th id=\"T_88c91_level0_col5\" class=\"col_heading level0 col5\" >Kappa</th>\n",
       "      <th id=\"T_88c91_level0_col6\" class=\"col_heading level0 col6\" >MCC</th>\n",
       "    </tr>\n",
       "    <tr>\n",
       "      <th class=\"index_name level0\" >Fold</th>\n",
       "      <th class=\"blank col0\" >&nbsp;</th>\n",
       "      <th class=\"blank col1\" >&nbsp;</th>\n",
       "      <th class=\"blank col2\" >&nbsp;</th>\n",
       "      <th class=\"blank col3\" >&nbsp;</th>\n",
       "      <th class=\"blank col4\" >&nbsp;</th>\n",
       "      <th class=\"blank col5\" >&nbsp;</th>\n",
       "      <th class=\"blank col6\" >&nbsp;</th>\n",
       "    </tr>\n",
       "  </thead>\n",
       "  <tbody>\n",
       "    <tr>\n",
       "      <th id=\"T_88c91_level0_row0\" class=\"row_heading level0 row0\" >0</th>\n",
       "      <td id=\"T_88c91_row0_col0\" class=\"data row0 col0\" >0.6006</td>\n",
       "      <td id=\"T_88c91_row0_col1\" class=\"data row0 col1\" >0.5950</td>\n",
       "      <td id=\"T_88c91_row0_col2\" class=\"data row0 col2\" >0.8519</td>\n",
       "      <td id=\"T_88c91_row0_col3\" class=\"data row0 col3\" >0.6108</td>\n",
       "      <td id=\"T_88c91_row0_col4\" class=\"data row0 col4\" >0.7115</td>\n",
       "      <td id=\"T_88c91_row0_col5\" class=\"data row0 col5\" >0.1167</td>\n",
       "      <td id=\"T_88c91_row0_col6\" class=\"data row0 col6\" >0.1352</td>\n",
       "    </tr>\n",
       "    <tr>\n",
       "      <th id=\"T_88c91_level0_row1\" class=\"row_heading level0 row1\" >1</th>\n",
       "      <td id=\"T_88c91_row1_col0\" class=\"data row1 col0\" >0.5916</td>\n",
       "      <td id=\"T_88c91_row1_col1\" class=\"data row1 col1\" >0.5705</td>\n",
       "      <td id=\"T_88c91_row1_col2\" class=\"data row1 col2\" >0.8468</td>\n",
       "      <td id=\"T_88c91_row1_col3\" class=\"data row1 col3\" >0.6048</td>\n",
       "      <td id=\"T_88c91_row1_col4\" class=\"data row1 col4\" >0.7056</td>\n",
       "      <td id=\"T_88c91_row1_col5\" class=\"data row1 col5\" >0.0958</td>\n",
       "      <td id=\"T_88c91_row1_col6\" class=\"data row1 col6\" >0.1116</td>\n",
       "    </tr>\n",
       "    <tr>\n",
       "      <th id=\"T_88c91_level0_row2\" class=\"row_heading level0 row2\" >2</th>\n",
       "      <td id=\"T_88c91_row2_col0\" class=\"data row2 col0\" >0.6256</td>\n",
       "      <td id=\"T_88c91_row2_col1\" class=\"data row2 col1\" >0.6277</td>\n",
       "      <td id=\"T_88c91_row2_col2\" class=\"data row2 col2\" >0.8571</td>\n",
       "      <td id=\"T_88c91_row2_col3\" class=\"data row2 col3\" >0.6298</td>\n",
       "      <td id=\"T_88c91_row2_col4\" class=\"data row2 col4\" >0.7261</td>\n",
       "      <td id=\"T_88c91_row2_col5\" class=\"data row2 col5\" >0.1762</td>\n",
       "      <td id=\"T_88c91_row2_col6\" class=\"data row2 col6\" >0.1984</td>\n",
       "    </tr>\n",
       "    <tr>\n",
       "      <th id=\"T_88c91_level0_row3\" class=\"row_heading level0 row3\" >3</th>\n",
       "      <td id=\"T_88c91_row3_col0\" class=\"data row3 col0\" >0.6060</td>\n",
       "      <td id=\"T_88c91_row3_col1\" class=\"data row3 col1\" >0.5911</td>\n",
       "      <td id=\"T_88c91_row3_col2\" class=\"data row3 col2\" >0.8779</td>\n",
       "      <td id=\"T_88c91_row3_col3\" class=\"data row3 col3\" >0.6112</td>\n",
       "      <td id=\"T_88c91_row3_col4\" class=\"data row3 col4\" >0.7207</td>\n",
       "      <td id=\"T_88c91_row3_col5\" class=\"data row3 col5\" >0.1199</td>\n",
       "      <td id=\"T_88c91_row3_col6\" class=\"data row3 col6\" >0.1452</td>\n",
       "    </tr>\n",
       "    <tr>\n",
       "      <th id=\"T_88c91_level0_row4\" class=\"row_heading level0 row4\" >4</th>\n",
       "      <td id=\"T_88c91_row4_col0\" class=\"data row4 col0\" >0.6195</td>\n",
       "      <td id=\"T_88c91_row4_col1\" class=\"data row4 col1\" >0.5983</td>\n",
       "      <td id=\"T_88c91_row4_col2\" class=\"data row4 col2\" >0.8753</td>\n",
       "      <td id=\"T_88c91_row4_col3\" class=\"data row4 col3\" >0.6218</td>\n",
       "      <td id=\"T_88c91_row4_col4\" class=\"data row4 col4\" >0.7271</td>\n",
       "      <td id=\"T_88c91_row4_col5\" class=\"data row4 col5\" >0.1550</td>\n",
       "      <td id=\"T_88c91_row4_col6\" class=\"data row4 col6\" >0.1821</td>\n",
       "    </tr>\n",
       "    <tr>\n",
       "      <th id=\"T_88c91_level0_row5\" class=\"row_heading level0 row5\" >5</th>\n",
       "      <td id=\"T_88c91_row5_col0\" class=\"data row5 col0\" >0.6075</td>\n",
       "      <td id=\"T_88c91_row5_col1\" class=\"data row5 col1\" >0.5942</td>\n",
       "      <td id=\"T_88c91_row5_col2\" class=\"data row5 col2\" >0.8442</td>\n",
       "      <td id=\"T_88c91_row5_col3\" class=\"data row5 col3\" >0.6179</td>\n",
       "      <td id=\"T_88c91_row5_col4\" class=\"data row5 col4\" >0.7135</td>\n",
       "      <td id=\"T_88c91_row5_col5\" class=\"data row5 col5\" >0.1356</td>\n",
       "      <td id=\"T_88c91_row5_col6\" class=\"data row5 col6\" >0.1534</td>\n",
       "    </tr>\n",
       "    <tr>\n",
       "      <th id=\"T_88c91_level0_row6\" class=\"row_heading level0 row6\" >6</th>\n",
       "      <td id=\"T_88c91_row6_col0\" class=\"data row6 col0\" >0.6180</td>\n",
       "      <td id=\"T_88c91_row6_col1\" class=\"data row6 col1\" >0.6168</td>\n",
       "      <td id=\"T_88c91_row6_col2\" class=\"data row6 col2\" >0.8623</td>\n",
       "      <td id=\"T_88c91_row6_col3\" class=\"data row6 col3\" >0.6229</td>\n",
       "      <td id=\"T_88c91_row6_col4\" class=\"data row6 col4\" >0.7233</td>\n",
       "      <td id=\"T_88c91_row6_col5\" class=\"data row6 col5\" >0.1557</td>\n",
       "      <td id=\"T_88c91_row6_col6\" class=\"data row6 col6\" >0.1788</td>\n",
       "    </tr>\n",
       "    <tr>\n",
       "      <th id=\"T_88c91_level0_row7\" class=\"row_heading level0 row7\" >7</th>\n",
       "      <td id=\"T_88c91_row7_col0\" class=\"data row7 col0\" >0.6195</td>\n",
       "      <td id=\"T_88c91_row7_col1\" class=\"data row7 col1\" >0.6318</td>\n",
       "      <td id=\"T_88c91_row7_col2\" class=\"data row7 col2\" >0.8831</td>\n",
       "      <td id=\"T_88c91_row7_col3\" class=\"data row7 col3\" >0.6204</td>\n",
       "      <td id=\"T_88c91_row7_col4\" class=\"data row7 col4\" >0.7288</td>\n",
       "      <td id=\"T_88c91_row7_col5\" class=\"data row7 col5\" >0.1524</td>\n",
       "      <td id=\"T_88c91_row7_col6\" class=\"data row7 col6\" >0.1819</td>\n",
       "    </tr>\n",
       "    <tr>\n",
       "      <th id=\"T_88c91_level0_row8\" class=\"row_heading level0 row8\" >8</th>\n",
       "      <td id=\"T_88c91_row8_col0\" class=\"data row8 col0\" >0.6286</td>\n",
       "      <td id=\"T_88c91_row8_col1\" class=\"data row8 col1\" >0.6299</td>\n",
       "      <td id=\"T_88c91_row8_col2\" class=\"data row8 col2\" >0.8828</td>\n",
       "      <td id=\"T_88c91_row8_col3\" class=\"data row8 col3\" >0.6266</td>\n",
       "      <td id=\"T_88c91_row8_col4\" class=\"data row8 col4\" >0.7330</td>\n",
       "      <td id=\"T_88c91_row8_col5\" class=\"data row8 col5\" >0.1772</td>\n",
       "      <td id=\"T_88c91_row8_col6\" class=\"data row8 col6\" >0.2079</td>\n",
       "    </tr>\n",
       "    <tr>\n",
       "      <th id=\"T_88c91_level0_row9\" class=\"row_heading level0 row9\" >9</th>\n",
       "      <td id=\"T_88c91_row9_col0\" class=\"data row9 col0\" >0.5940</td>\n",
       "      <td id=\"T_88c91_row9_col1\" class=\"data row9 col1\" >0.6025</td>\n",
       "      <td id=\"T_88c91_row9_col2\" class=\"data row9 col2\" >0.8438</td>\n",
       "      <td id=\"T_88c91_row9_col3\" class=\"data row9 col3\" >0.6067</td>\n",
       "      <td id=\"T_88c91_row9_col4\" class=\"data row9 col4\" >0.7059</td>\n",
       "      <td id=\"T_88c91_row9_col5\" class=\"data row9 col5\" >0.1039</td>\n",
       "      <td id=\"T_88c91_row9_col6\" class=\"data row9 col6\" >0.1197</td>\n",
       "    </tr>\n",
       "    <tr>\n",
       "      <th id=\"T_88c91_level0_row10\" class=\"row_heading level0 row10\" >Mean</th>\n",
       "      <td id=\"T_88c91_row10_col0\" class=\"data row10 col0\" >0.6111</td>\n",
       "      <td id=\"T_88c91_row10_col1\" class=\"data row10 col1\" >0.6058</td>\n",
       "      <td id=\"T_88c91_row10_col2\" class=\"data row10 col2\" >0.8625</td>\n",
       "      <td id=\"T_88c91_row10_col3\" class=\"data row10 col3\" >0.6173</td>\n",
       "      <td id=\"T_88c91_row10_col4\" class=\"data row10 col4\" >0.7195</td>\n",
       "      <td id=\"T_88c91_row10_col5\" class=\"data row10 col5\" >0.1388</td>\n",
       "      <td id=\"T_88c91_row10_col6\" class=\"data row10 col6\" >0.1614</td>\n",
       "    </tr>\n",
       "    <tr>\n",
       "      <th id=\"T_88c91_level0_row11\" class=\"row_heading level0 row11\" >Std</th>\n",
       "      <td id=\"T_88c91_row11_col0\" class=\"data row11 col0\" >0.0124</td>\n",
       "      <td id=\"T_88c91_row11_col1\" class=\"data row11 col1\" >0.0191</td>\n",
       "      <td id=\"T_88c91_row11_col2\" class=\"data row11 col2\" >0.0152</td>\n",
       "      <td id=\"T_88c91_row11_col3\" class=\"data row11 col3\" >0.0081</td>\n",
       "      <td id=\"T_88c91_row11_col4\" class=\"data row11 col4\" >0.0093</td>\n",
       "      <td id=\"T_88c91_row11_col5\" class=\"data row11 col5\" >0.0274</td>\n",
       "      <td id=\"T_88c91_row11_col6\" class=\"data row11 col6\" >0.0315</td>\n",
       "    </tr>\n",
       "  </tbody>\n",
       "</table>\n"
      ],
      "text/plain": [
       "<pandas.io.formats.style.Styler at 0x7f205cad1a20>"
      ]
     },
     "metadata": {},
     "output_type": "display_data"
    },
    {
     "data": {
      "application/vnd.jupyter.widget-view+json": {
       "model_id": "46b9d3b6cd6e4f76a42dd4f216dc1644",
       "version_major": 2,
       "version_minor": 0
      },
      "text/plain": [
       "Processing:   0%|          | 0/4 [00:00<?, ?it/s]"
      ]
     },
     "metadata": {
      "application/vnd.jupyter.widget-view+json": {
       "colab": {
        "custom_widget_manager": {
         "url": "https://ssl.gstatic.com/colaboratory-static/widgets/colab-cdn-widget-manager/b3e629b1971e1542/manager.min.js"
        }
       }
      }
     },
     "output_type": "display_data"
    },
    {
     "data": {
      "text/html": [],
      "text/plain": [
       "<IPython.core.display.HTML object>"
      ]
     },
     "metadata": {},
     "output_type": "display_data"
    }
   ],
   "source": [
    "Hit_Logistic_Regression =  Hit_Classification_Setup.create_model(\"lr\", probability_threshold = 0.50)"
   ]
  },
  {
   "cell_type": "markdown",
   "metadata": {
    "id": "sOfz0zBX994h"
   },
   "source": [
    "**Finalize & Save Model**"
   ]
  },
  {
   "cell_type": "code",
   "execution_count": null,
   "metadata": {
    "colab": {
     "base_uri": "https://localhost:8080/",
     "height": 34
    },
    "id": "gutfxdh8-DKy",
    "outputId": "2e862724-33f5-45f0-ed52-aade46f98c7d"
   },
   "outputs": [
    {
     "name": "stdout",
     "output_type": "stream",
     "text": [
      "Transformation Pipeline and Model Successfully Saved\n"
     ]
    },
    {
     "data": {
      "application/javascript": [
       "\n",
       "    async function download(id, filename, size) {\n",
       "      if (!google.colab.kernel.accessAllowed) {\n",
       "        return;\n",
       "      }\n",
       "      const div = document.createElement('div');\n",
       "      const label = document.createElement('label');\n",
       "      label.textContent = `Downloading \"${filename}\": `;\n",
       "      div.appendChild(label);\n",
       "      const progress = document.createElement('progress');\n",
       "      progress.max = size;\n",
       "      div.appendChild(progress);\n",
       "      document.body.appendChild(div);\n",
       "\n",
       "      const buffers = [];\n",
       "      let downloaded = 0;\n",
       "\n",
       "      const channel = await google.colab.kernel.comms.open(id);\n",
       "      // Send a message to notify the kernel that we're ready.\n",
       "      channel.send({})\n",
       "\n",
       "      for await (const message of channel.messages) {\n",
       "        // Send a message to notify the kernel that we're ready.\n",
       "        channel.send({})\n",
       "        if (message.buffers) {\n",
       "          for (const buffer of message.buffers) {\n",
       "            buffers.push(buffer);\n",
       "            downloaded += buffer.byteLength;\n",
       "            progress.value = downloaded;\n",
       "          }\n",
       "        }\n",
       "      }\n",
       "      const blob = new Blob(buffers, {type: 'application/binary'});\n",
       "      const a = document.createElement('a');\n",
       "      a.href = window.URL.createObjectURL(blob);\n",
       "      a.download = filename;\n",
       "      div.appendChild(a);\n",
       "      a.click();\n",
       "      div.remove();\n",
       "    }\n",
       "  "
      ],
      "text/plain": [
       "<IPython.core.display.Javascript object>"
      ]
     },
     "metadata": {},
     "output_type": "display_data"
    },
    {
     "data": {
      "application/javascript": [
       "download(\"download_cec93a3c-a696-4d77-a8f4-25fcbe604240\", \"2023-05-13 Batter Hit LR Model.pkl\", 35300)"
      ],
      "text/plain": [
       "<IPython.core.display.Javascript object>"
      ]
     },
     "metadata": {},
     "output_type": "display_data"
    }
   ],
   "source": [
    "Finalized_Hit_Model = pycaret.classification.finalize_model(Hit_Logistic_Regression)\n",
    "hit_save_to_file_string = f\"{datetime.today().strftime('%Y-%m-%d')} Batter Hit LR Model\"\n",
    "pycaret.classification.save_model(Finalized_Hit_Model, hit_save_to_file_string)\n",
    "files.download(f\"{hit_save_to_file_string}.pkl\")"
   ]
  }
 ],
 "metadata": {
  "colab": {
   "provenance": []
  },
  "kernelspec": {
   "display_name": "Python 3 (ipykernel)",
   "language": "python",
   "name": "python3"
  },
  "language_info": {
   "codemirror_mode": {
    "name": "ipython",
    "version": 3
   },
   "file_extension": ".py",
   "mimetype": "text/x-python",
   "name": "python",
   "nbconvert_exporter": "python",
   "pygments_lexer": "ipython3",
   "version": "3.9.7"
  },
  "widgets": {
   "application/vnd.jupyter.widget-state+json": {
    "1ac32fe9102d4f5a9d1511e64a1d5e5d": {
     "model_module": "@jupyter-widgets/base",
     "model_module_version": "1.2.0",
     "model_name": "LayoutModel",
     "state": {
      "_model_module": "@jupyter-widgets/base",
      "_model_module_version": "1.2.0",
      "_model_name": "LayoutModel",
      "_view_count": null,
      "_view_module": "@jupyter-widgets/base",
      "_view_module_version": "1.2.0",
      "_view_name": "LayoutView",
      "align_content": null,
      "align_items": null,
      "align_self": null,
      "border": null,
      "bottom": null,
      "display": null,
      "flex": null,
      "flex_flow": null,
      "grid_area": null,
      "grid_auto_columns": null,
      "grid_auto_flow": null,
      "grid_auto_rows": null,
      "grid_column": null,
      "grid_gap": null,
      "grid_row": null,
      "grid_template_areas": null,
      "grid_template_columns": null,
      "grid_template_rows": null,
      "height": null,
      "justify_content": null,
      "justify_items": null,
      "left": null,
      "margin": null,
      "max_height": null,
      "max_width": null,
      "min_height": null,
      "min_width": null,
      "object_fit": null,
      "object_position": null,
      "order": null,
      "overflow": null,
      "overflow_x": null,
      "overflow_y": null,
      "padding": null,
      "right": null,
      "top": null,
      "visibility": null,
      "width": null
     }
    },
    "40b50c57e470496cb6c94a0693636fd7": {
     "model_module": "@jupyter-widgets/base",
     "model_module_version": "1.2.0",
     "model_name": "LayoutModel",
     "state": {
      "_model_module": "@jupyter-widgets/base",
      "_model_module_version": "1.2.0",
      "_model_name": "LayoutModel",
      "_view_count": null,
      "_view_module": "@jupyter-widgets/base",
      "_view_module_version": "1.2.0",
      "_view_name": "LayoutView",
      "align_content": null,
      "align_items": null,
      "align_self": null,
      "border": null,
      "bottom": null,
      "display": null,
      "flex": null,
      "flex_flow": null,
      "grid_area": null,
      "grid_auto_columns": null,
      "grid_auto_flow": null,
      "grid_auto_rows": null,
      "grid_column": null,
      "grid_gap": null,
      "grid_row": null,
      "grid_template_areas": null,
      "grid_template_columns": null,
      "grid_template_rows": null,
      "height": null,
      "justify_content": null,
      "justify_items": null,
      "left": null,
      "margin": null,
      "max_height": null,
      "max_width": null,
      "min_height": null,
      "min_width": null,
      "object_fit": null,
      "object_position": null,
      "order": null,
      "overflow": null,
      "overflow_x": null,
      "overflow_y": null,
      "padding": null,
      "right": null,
      "top": null,
      "visibility": "hidden",
      "width": null
     }
    },
    "46b9d3b6cd6e4f76a42dd4f216dc1644": {
     "model_module": "@jupyter-widgets/controls",
     "model_module_version": "1.5.0",
     "model_name": "HBoxModel",
     "state": {
      "_dom_classes": [],
      "_model_module": "@jupyter-widgets/controls",
      "_model_module_version": "1.5.0",
      "_model_name": "HBoxModel",
      "_view_count": null,
      "_view_module": "@jupyter-widgets/controls",
      "_view_module_version": "1.5.0",
      "_view_name": "HBoxView",
      "box_style": "",
      "children": [
       "IPY_MODEL_cfce22755aa7471a87151793e633def1",
       "IPY_MODEL_94d7b3dc65544425b2463933c4108fa4",
       "IPY_MODEL_f92582f04a594f87a669f3c1c4d4eabc"
      ],
      "layout": "IPY_MODEL_40b50c57e470496cb6c94a0693636fd7"
     }
    },
    "4efa6d0ab419418ea9e4991c77b1ec42": {
     "model_module": "@jupyter-widgets/controls",
     "model_module_version": "1.5.0",
     "model_name": "ProgressStyleModel",
     "state": {
      "_model_module": "@jupyter-widgets/controls",
      "_model_module_version": "1.5.0",
      "_model_name": "ProgressStyleModel",
      "_view_count": null,
      "_view_module": "@jupyter-widgets/base",
      "_view_module_version": "1.2.0",
      "_view_name": "StyleView",
      "bar_color": null,
      "description_width": ""
     }
    },
    "81feddb738c64cbc8b7dbc7aec2730de": {
     "model_module": "@jupyter-widgets/controls",
     "model_module_version": "1.5.0",
     "model_name": "DescriptionStyleModel",
     "state": {
      "_model_module": "@jupyter-widgets/controls",
      "_model_module_version": "1.5.0",
      "_model_name": "DescriptionStyleModel",
      "_view_count": null,
      "_view_module": "@jupyter-widgets/base",
      "_view_module_version": "1.2.0",
      "_view_name": "StyleView",
      "description_width": ""
     }
    },
    "94d7b3dc65544425b2463933c4108fa4": {
     "model_module": "@jupyter-widgets/controls",
     "model_module_version": "1.5.0",
     "model_name": "FloatProgressModel",
     "state": {
      "_dom_classes": [],
      "_model_module": "@jupyter-widgets/controls",
      "_model_module_version": "1.5.0",
      "_model_name": "FloatProgressModel",
      "_view_count": null,
      "_view_module": "@jupyter-widgets/controls",
      "_view_module_version": "1.5.0",
      "_view_name": "ProgressView",
      "bar_style": "",
      "description": "",
      "description_tooltip": null,
      "layout": "IPY_MODEL_eb74dfbcca4a458eb81d87fbae5bf166",
      "max": 4,
      "min": 0,
      "orientation": "horizontal",
      "style": "IPY_MODEL_4efa6d0ab419418ea9e4991c77b1ec42",
      "value": 4
     }
    },
    "bec03081ad154466a3a0abca5a8462f4": {
     "model_module": "@jupyter-widgets/base",
     "model_module_version": "1.2.0",
     "model_name": "LayoutModel",
     "state": {
      "_model_module": "@jupyter-widgets/base",
      "_model_module_version": "1.2.0",
      "_model_name": "LayoutModel",
      "_view_count": null,
      "_view_module": "@jupyter-widgets/base",
      "_view_module_version": "1.2.0",
      "_view_name": "LayoutView",
      "align_content": null,
      "align_items": null,
      "align_self": null,
      "border": null,
      "bottom": null,
      "display": null,
      "flex": null,
      "flex_flow": null,
      "grid_area": null,
      "grid_auto_columns": null,
      "grid_auto_flow": null,
      "grid_auto_rows": null,
      "grid_column": null,
      "grid_gap": null,
      "grid_row": null,
      "grid_template_areas": null,
      "grid_template_columns": null,
      "grid_template_rows": null,
      "height": null,
      "justify_content": null,
      "justify_items": null,
      "left": null,
      "margin": null,
      "max_height": null,
      "max_width": null,
      "min_height": null,
      "min_width": null,
      "object_fit": null,
      "object_position": null,
      "order": null,
      "overflow": null,
      "overflow_x": null,
      "overflow_y": null,
      "padding": null,
      "right": null,
      "top": null,
      "visibility": null,
      "width": null
     }
    },
    "cfcd697393754f1d93106a2d6e07ea05": {
     "model_module": "@jupyter-widgets/controls",
     "model_module_version": "1.5.0",
     "model_name": "DescriptionStyleModel",
     "state": {
      "_model_module": "@jupyter-widgets/controls",
      "_model_module_version": "1.5.0",
      "_model_name": "DescriptionStyleModel",
      "_view_count": null,
      "_view_module": "@jupyter-widgets/base",
      "_view_module_version": "1.2.0",
      "_view_name": "StyleView",
      "description_width": ""
     }
    },
    "cfce22755aa7471a87151793e633def1": {
     "model_module": "@jupyter-widgets/controls",
     "model_module_version": "1.5.0",
     "model_name": "HTMLModel",
     "state": {
      "_dom_classes": [],
      "_model_module": "@jupyter-widgets/controls",
      "_model_module_version": "1.5.0",
      "_model_name": "HTMLModel",
      "_view_count": null,
      "_view_module": "@jupyter-widgets/controls",
      "_view_module_version": "1.5.0",
      "_view_name": "HTMLView",
      "description": "",
      "description_tooltip": null,
      "layout": "IPY_MODEL_bec03081ad154466a3a0abca5a8462f4",
      "placeholder": "​",
      "style": "IPY_MODEL_81feddb738c64cbc8b7dbc7aec2730de",
      "value": "Processing: 100%"
     }
    },
    "eb74dfbcca4a458eb81d87fbae5bf166": {
     "model_module": "@jupyter-widgets/base",
     "model_module_version": "1.2.0",
     "model_name": "LayoutModel",
     "state": {
      "_model_module": "@jupyter-widgets/base",
      "_model_module_version": "1.2.0",
      "_model_name": "LayoutModel",
      "_view_count": null,
      "_view_module": "@jupyter-widgets/base",
      "_view_module_version": "1.2.0",
      "_view_name": "LayoutView",
      "align_content": null,
      "align_items": null,
      "align_self": null,
      "border": null,
      "bottom": null,
      "display": null,
      "flex": null,
      "flex_flow": null,
      "grid_area": null,
      "grid_auto_columns": null,
      "grid_auto_flow": null,
      "grid_auto_rows": null,
      "grid_column": null,
      "grid_gap": null,
      "grid_row": null,
      "grid_template_areas": null,
      "grid_template_columns": null,
      "grid_template_rows": null,
      "height": null,
      "justify_content": null,
      "justify_items": null,
      "left": null,
      "margin": null,
      "max_height": null,
      "max_width": null,
      "min_height": null,
      "min_width": null,
      "object_fit": null,
      "object_position": null,
      "order": null,
      "overflow": null,
      "overflow_x": null,
      "overflow_y": null,
      "padding": null,
      "right": null,
      "top": null,
      "visibility": null,
      "width": null
     }
    },
    "f92582f04a594f87a669f3c1c4d4eabc": {
     "model_module": "@jupyter-widgets/controls",
     "model_module_version": "1.5.0",
     "model_name": "HTMLModel",
     "state": {
      "_dom_classes": [],
      "_model_module": "@jupyter-widgets/controls",
      "_model_module_version": "1.5.0",
      "_model_name": "HTMLModel",
      "_view_count": null,
      "_view_module": "@jupyter-widgets/controls",
      "_view_module_version": "1.5.0",
      "_view_name": "HTMLView",
      "description": "",
      "description_tooltip": null,
      "layout": "IPY_MODEL_1ac32fe9102d4f5a9d1511e64a1d5e5d",
      "placeholder": "​",
      "style": "IPY_MODEL_cfcd697393754f1d93106a2d6e07ea05",
      "value": " 4/4 [00:10&lt;00:00,  2.34s/it]"
     }
    }
   }
  }
 },
 "nbformat": 4,
 "nbformat_minor": 1
}
