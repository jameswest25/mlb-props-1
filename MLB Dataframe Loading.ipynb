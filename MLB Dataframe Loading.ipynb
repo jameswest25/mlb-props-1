{
 "cells": [
  {
   "cell_type": "code",
   "execution_count": 9,
   "id": "8d4cee6c",
   "metadata": {
    "scrolled": true
   },
   "outputs": [
    {
     "name": "stdout",
     "output_type": "stream",
     "text": [
      "<class 'datetime.datetime'>\n"
     ]
    }
   ],
   "source": [
    "print(type(datetime.now()))"
   ]
  },
  {
   "cell_type": "code",
   "execution_count": null,
   "id": "ad4dc27b",
   "metadata": {
    "scrolled": true
   },
   "outputs": [
    {
     "name": "stderr",
     "output_type": "stream",
     "text": [
      "Warning: Cannot load hourly/2024/877AW.csv.gz from https://bulk.meteostat.net/v2/\n",
      "Warning: Cannot load hourly/2024/SC9N0.csv.gz from https://bulk.meteostat.net/v2/\n",
      "Warning: Cannot load hourly/2024/72244.csv.gz from https://bulk.meteostat.net/v2/\n",
      "Warning: Cannot load hourly/2024/72243.csv.gz from https://bulk.meteostat.net/v2/\n",
      "Warning: Cannot load hourly/2024/KCPS0.csv.gz from https://bulk.meteostat.net/v2/\n",
      "Warning: Cannot load hourly/2024/72434.csv.gz from https://bulk.meteostat.net/v2/\n",
      "Warning: Cannot load hourly/2024/4P0GT.csv.gz from https://bulk.meteostat.net/v2/\n",
      "Warning: Cannot load hourly/2024/KALN0.csv.gz from https://bulk.meteostat.net/v2/\n",
      "Warning: Cannot load hourly/2024/KCGX0.csv.gz from https://bulk.meteostat.net/v2/\n",
      "Warning: Cannot load hourly/2023/KCGX0.csv.gz from https://bulk.meteostat.net/v2/\n",
      "Warning: Cannot load hourly/2024/72534.csv.gz from https://bulk.meteostat.net/v2/\n",
      "Warning: Cannot load hourly/2024/72530.csv.gz from https://bulk.meteostat.net/v2/\n",
      "Warning: Cannot load hourly/2024/KPWK0.csv.gz from https://bulk.meteostat.net/v2/\n",
      "Warning: Cannot load hourly/2024/KGPM0.csv.gz from https://bulk.meteostat.net/v2/\n",
      "Warning: Cannot load hourly/2024/KGKY0.csv.gz from https://bulk.meteostat.net/v2/\n",
      "Warning: Cannot load hourly/2024/KNBE0.csv.gz from https://bulk.meteostat.net/v2/\n",
      "Warning: Cannot load hourly/2023/KNBE0.csv.gz from https://bulk.meteostat.net/v2/\n",
      "Warning: Cannot load hourly/2024/72259.csv.gz from https://bulk.meteostat.net/v2/\n",
      "Warning: Cannot load hourly/2024/72405.csv.gz from https://bulk.meteostat.net/v2/\n",
      "Warning: Cannot load hourly/2024/KCGS0.csv.gz from https://bulk.meteostat.net/v2/\n",
      "Warning: Cannot load hourly/2024/74594.csv.gz from https://bulk.meteostat.net/v2/\n",
      "Warning: Cannot load hourly/2024/TOFHW.csv.gz from https://bulk.meteostat.net/v2/\n",
      "Warning: Cannot load hourly/2024/KNYC0.csv.gz from https://bulk.meteostat.net/v2/\n",
      "Warning: Cannot load hourly/2024/KTEB0.csv.gz from https://bulk.meteostat.net/v2/\n",
      "Warning: Cannot load hourly/2024/KJRB0.csv.gz from https://bulk.meteostat.net/v2/\n",
      "Warning: Cannot load hourly/2024/72502.csv.gz from https://bulk.meteostat.net/v2/\n",
      "Warning: Cannot load hourly/2024/72493.csv.gz from https://bulk.meteostat.net/v2/\n",
      "Warning: Cannot load hourly/2024/74506.csv.gz from https://bulk.meteostat.net/v2/\n",
      "Warning: Cannot load hourly/2023/74506.csv.gz from https://bulk.meteostat.net/v2/\n",
      "Warning: Cannot load hourly/2024/72585.csv.gz from https://bulk.meteostat.net/v2/\n",
      "Warning: Cannot load hourly/2024/72494.csv.gz from https://bulk.meteostat.net/v2/\n",
      "Warning: Cannot load hourly/2024/72509.csv.gz from https://bulk.meteostat.net/v2/\n",
      "Warning: Cannot load hourly/2024/KOWD0.csv.gz from https://bulk.meteostat.net/v2/\n",
      "Warning: Cannot load hourly/2024/74490.csv.gz from https://bulk.meteostat.net/v2/\n",
      "Warning: Cannot load hourly/2024/74492.csv.gz from https://bulk.meteostat.net/v2/\n",
      "Warning: Cannot load hourly/2024/KLUK0.csv.gz from https://bulk.meteostat.net/v2/\n",
      "Warning: Cannot load hourly/2024/72421.csv.gz from https://bulk.meteostat.net/v2/\n",
      "Warning: Cannot load hourly/2024/KI690.csv.gz from https://bulk.meteostat.net/v2/\n",
      "Warning: Cannot load hourly/2024/KHAO0.csv.gz from https://bulk.meteostat.net/v2/\n",
      "Warning: Cannot load hourly/2024/KSPG0.csv.gz from https://bulk.meteostat.net/v2/\n",
      "Warning: Cannot load hourly/2024/KPIE0.csv.gz from https://bulk.meteostat.net/v2/\n",
      "Warning: Cannot load hourly/2024/74788.csv.gz from https://bulk.meteostat.net/v2/\n",
      "Warning: Cannot load hourly/2024/72211.csv.gz from https://bulk.meteostat.net/v2/\n",
      "Warning: Cannot load hourly/2024/KMKC0.csv.gz from https://bulk.meteostat.net/v2/\n",
      "Warning: Cannot load hourly/2024/KLXT0.csv.gz from https://bulk.meteostat.net/v2/\n",
      "Warning: Cannot load hourly/2024/KGPH0.csv.gz from https://bulk.meteostat.net/v2/\n",
      "Warning: Cannot load hourly/2024/KGVW0.csv.gz from https://bulk.meteostat.net/v2/\n",
      "Warning: Cannot load hourly/2024/72202.csv.gz from https://bulk.meteostat.net/v2/\n",
      "Warning: Cannot load hourly/2024/JY84X.csv.gz from https://bulk.meteostat.net/v2/\n",
      "Warning: Cannot load hourly/2024/KHWO0.csv.gz from https://bulk.meteostat.net/v2/\n",
      "Warning: Cannot load hourly/2024/KTMB0.csv.gz from https://bulk.meteostat.net/v2/\n",
      "Warning: Cannot load hourly/2024/72290.csv.gz from https://bulk.meteostat.net/v2/\n",
      "Warning: Cannot load hourly/2024/KNRS0.csv.gz from https://bulk.meteostat.net/v2/\n",
      "Warning: Cannot load hourly/2024/72293.csv.gz from https://bulk.meteostat.net/v2/\n",
      "Warning: Cannot load hourly/2024/KSEE0.csv.gz from https://bulk.meteostat.net/v2/\n",
      "Warning: Cannot load hourly/2024/KCQT0.csv.gz from https://bulk.meteostat.net/v2/\n",
      "Warning: Cannot load hourly/2024/KEMT0.csv.gz from https://bulk.meteostat.net/v2/\n",
      "Warning: Cannot load hourly/2024/71D38.csv.gz from https://bulk.meteostat.net/v2/\n",
      "Warning: Cannot load hourly/2024/KHHR0.csv.gz from https://bulk.meteostat.net/v2/\n",
      "Warning: Cannot load hourly/2024/KBFI0.csv.gz from https://bulk.meteostat.net/v2/\n",
      "Warning: Cannot load hourly/2024/KRNT0.csv.gz from https://bulk.meteostat.net/v2/\n",
      "Warning: Cannot load hourly/2024/72793.csv.gz from https://bulk.meteostat.net/v2/\n",
      "Warning: Cannot load hourly/2024/KPWT0.csv.gz from https://bulk.meteostat.net/v2/\n",
      "Warning: Cannot load hourly/2024/KMWC0.csv.gz from https://bulk.meteostat.net/v2/\n",
      "Warning: Cannot load hourly/2024/72640.csv.gz from https://bulk.meteostat.net/v2/\n",
      "Warning: Cannot load hourly/2024/KUES0.csv.gz from https://bulk.meteostat.net/v2/\n",
      "Warning: Cannot load hourly/2024/KRAC0.csv.gz from https://bulk.meteostat.net/v2/\n",
      "Warning: Cannot load hourly/2024/KGYY0.csv.gz from https://bulk.meteostat.net/v2/\n",
      "Warning: Cannot load hourly/2024/KDET0.csv.gz from https://bulk.meteostat.net/v2/\n",
      "Warning: Cannot load hourly/2024/71538.csv.gz from https://bulk.meteostat.net/v2/\n",
      "Warning: Cannot load hourly/2024/DNYFH.csv.gz from https://bulk.meteostat.net/v2/\n",
      "Warning: Cannot load hourly/2023/DNYFH.csv.gz from https://bulk.meteostat.net/v2/\n",
      "Warning: Cannot load hourly/2024/KXNWG.csv.gz from https://bulk.meteostat.net/v2/\n",
      "Warning: Cannot load hourly/2024/72469.csv.gz from https://bulk.meteostat.net/v2/\n",
      "Warning: Cannot load hourly/2024/KBJC0.csv.gz from https://bulk.meteostat.net/v2/\n",
      "Warning: Cannot load hourly/2024/KBKF0.csv.gz from https://bulk.meteostat.net/v2/\n",
      "Warning: Cannot load hourly/2024/KAPA0.csv.gz from https://bulk.meteostat.net/v2/\n",
      "Warning: Cannot load hourly/2024/72227.csv.gz from https://bulk.meteostat.net/v2/\n",
      "Warning: Cannot load hourly/2024/KPDK0.csv.gz from https://bulk.meteostat.net/v2/\n",
      "Warning: Cannot load hourly/2024/KFTY0.csv.gz from https://bulk.meteostat.net/v2/\n",
      "Warning: Cannot load hourly/2024/KRYY0.csv.gz from https://bulk.meteostat.net/v2/\n",
      "Warning: Cannot load hourly/2024/72278.csv.gz from https://bulk.meteostat.net/v2/\n",
      "Warning: Cannot load hourly/2024/KGEU0.csv.gz from https://bulk.meteostat.net/v2/\n",
      "Warning: Cannot load hourly/2024/KSDL0.csv.gz from https://bulk.meteostat.net/v2/\n",
      "Warning: Cannot load hourly/2024/KDVT0.csv.gz from https://bulk.meteostat.net/v2/\n",
      "Warning: Cannot load hourly/2024/74486.csv.gz from https://bulk.meteostat.net/v2/\n",
      "Warning: Cannot load hourly/2024/72408.csv.gz from https://bulk.meteostat.net/v2/\n",
      "Warning: Cannot load hourly/2024/KPNE0.csv.gz from https://bulk.meteostat.net/v2/\n",
      "Warning: Cannot load hourly/2024/KVAY0.csv.gz from https://bulk.meteostat.net/v2/\n",
      "Warning: Cannot load hourly/2024/KLOM0.csv.gz from https://bulk.meteostat.net/v2/\n",
      "Warning: Cannot load hourly/2024/KDMH0.csv.gz from https://bulk.meteostat.net/v2/\n",
      "Warning: Cannot load hourly/2024/72406.csv.gz from https://bulk.meteostat.net/v2/\n",
      "Warning: Cannot load hourly/2024/KMTN0.csv.gz from https://bulk.meteostat.net/v2/\n",
      "Warning: Cannot load hourly/2024/74002.csv.gz from https://bulk.meteostat.net/v2/\n",
      "Warning: Cannot load hourly/2024/KBKL0.csv.gz from https://bulk.meteostat.net/v2/\n",
      "Warning: Cannot load hourly/2024/72524.csv.gz from https://bulk.meteostat.net/v2/\n",
      "Warning: Cannot load hourly/2024/KCGF0.csv.gz from https://bulk.meteostat.net/v2/\n",
      "Warning: Cannot load hourly/2024/KLNN0.csv.gz from https://bulk.meteostat.net/v2/\n",
      "Warning: Cannot load hourly/2024/72520.csv.gz from https://bulk.meteostat.net/v2/\n",
      "Warning: Cannot load hourly/2024/F2UX6.csv.gz from https://bulk.meteostat.net/v2/\n"
     ]
    },
    {
     "name": "stderr",
     "output_type": "stream",
     "text": [
      "Warning: Cannot load hourly/2024/KMIC0.csv.gz from https://bulk.meteostat.net/v2/\n",
      "Warning: Cannot load hourly/2024/9NRIJ.csv.gz from https://bulk.meteostat.net/v2/\n",
      "Warning: Cannot load hourly/2024/KSTP0.csv.gz from https://bulk.meteostat.net/v2/\n",
      "Warning: Cannot load hourly/2024/72658.csv.gz from https://bulk.meteostat.net/v2/\n",
      "Warning: Cannot load hourly/2024/71265.csv.gz from https://bulk.meteostat.net/v2/\n",
      "Warning: Cannot load hourly/2024/2XUGG.csv.gz from https://bulk.meteostat.net/v2/\n",
      "Warning: Cannot load hourly/2024/71508.csv.gz from https://bulk.meteostat.net/v2/\n",
      "Warning: Cannot load hourly/2024/8PJPB.csv.gz from https://bulk.meteostat.net/v2/\n",
      "Warning: Cannot load hourly/2023/8PJPB.csv.gz from https://bulk.meteostat.net/v2/\n"
     ]
    }
   ],
   "source": [
    "%run mlb-props-dataset-builder.py"
   ]
  },
  {
   "cell_type": "code",
   "execution_count": null,
   "id": "c585c988",
   "metadata": {},
   "outputs": [],
   "source": []
  }
 ],
 "metadata": {
  "kernelspec": {
   "display_name": "Python (PIC16B)",
   "language": "python",
   "name": "myenv"
  },
  "language_info": {
   "codemirror_mode": {
    "name": "ipython",
    "version": 3
   },
   "file_extension": ".py",
   "mimetype": "text/x-python",
   "name": "python",
   "nbconvert_exporter": "python",
   "pygments_lexer": "ipython3",
   "version": "3.7.7"
  }
 },
 "nbformat": 4,
 "nbformat_minor": 5
}
